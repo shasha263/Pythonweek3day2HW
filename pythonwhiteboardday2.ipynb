{
 "cells": [
  {
   "cell_type": "markdown",
   "metadata": {},
   "source": [
    "Write a function that will remove all vowels from a given string. The function should return a string.\n",
    "Example:\n",
    "Input: ‘Joel’\n",
    "Output: ‘Jl’"
   ]
  },
  {
   "cell_type": "code",
   "execution_count": 28,
   "metadata": {},
   "outputs": [
    {
     "data": {
      "text/plain": [
       "'lphnt'"
      ]
     },
     "execution_count": 28,
     "metadata": {},
     "output_type": "execute_result"
    }
   ],
   "source": [
    "#set are efficient for membership test\n",
    "\n",
    "\n",
    "def vowels(sentence):\n",
    "    vowels=('a','e','i','o','u')\n",
    "\n",
    "    new_sent=[]\n",
    "    final_sentence=\"\"\n",
    "    for i in sentence:\n",
    "        #if i!=\"a\" and i!='e'and i!='i' and i!='o' and i!='u':\n",
    "        if i not in vowels:\n",
    "            new_sent.append(i)\n",
    "            \n",
    "    #print(new_sent)\n",
    "\n",
    "    final_sentence= ''.join(new_sent)\n",
    "    #print(type(final_sentence))\n",
    "    return final_sentence\n",
    "\n",
    "vowels(\"elephant\")"
   ]
  },
  {
   "cell_type": "code",
   "execution_count": 18,
   "metadata": {},
   "outputs": [
    {
     "name": "stdout",
     "output_type": "stream",
     "text": [
      "lphnt\n"
     ]
    }
   ],
   "source": [
    "#input/output: string\n",
    "v = 'aeiou'\n",
    "def vowels(string):\n",
    "    for x in string:\n",
    "        for y in v:\n",
    "            if y == x:\n",
    "                string = string.replace(x, \"\")\n",
    "    return string\n",
    "print(vowels('elephant'))\n"
   ]
  },
  {
   "cell_type": "code",
   "execution_count": 22,
   "metadata": {},
   "outputs": [
    {
     "name": "stdout",
     "output_type": "stream",
     "text": [
      "lPhnt\n"
     ]
    }
   ],
   "source": [
    "def rem_vowel(_str):\n",
    "    vowels=('a','e','i','o','u')\n",
    "    for x in _str:\n",
    "        if x.lower() in vowels:\n",
    "            _str=_str.replace(x,\"\")\n",
    "    return _str\n",
    "\n",
    "print(rem_vowel('ElePhant'))"
   ]
  }
 ],
 "metadata": {
  "interpreter": {
   "hash": "b93b91927d7b2753ebe242aa7dfcdfef91881393d8b926ec2ce01874b09d686e"
  },
  "kernelspec": {
   "display_name": "Python 3.9.7 64-bit",
   "language": "python",
   "name": "python3"
  },
  "language_info": {
   "codemirror_mode": {
    "name": "ipython",
    "version": 3
   },
   "file_extension": ".py",
   "mimetype": "text/x-python",
   "name": "python",
   "nbconvert_exporter": "python",
   "pygments_lexer": "ipython3",
   "version": "3.9.7"
  },
  "orig_nbformat": 4
 },
 "nbformat": 4,
 "nbformat_minor": 2
}
