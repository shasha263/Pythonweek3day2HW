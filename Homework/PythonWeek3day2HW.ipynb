{
 "cells": [
  {
   "cell_type": "markdown",
   "metadata": {},
   "source": [
    "# Exercises"
   ]
  },
  {
   "cell_type": "markdown",
   "metadata": {},
   "source": [
    "### Exercise 1 - Turn the shopping cart program from yesterday into an object-oriented program\n",
    "\n",
    "The comments in the cell below are there as a guide for thinking about the problem. However, if you feel a different way is best for you and your own thought process, please do what feels best for you by all means."
   ]
  },
  {
   "cell_type": "code",
   "execution_count": 36,
   "metadata": {},
   "outputs": [
    {
     "name": "stdout",
     "output_type": "stream",
     "text": [
      "Thank you for shopping.\n",
      "Your cart contains:\n",
      "Ice cream: 1.5\n",
      "Cookie: 3.00\n",
      "Vanilla Smoothie: 3.5\n",
      "Cookie was successfully removed from your cart.\n",
      "Ice cream: 1.5\n",
      "Vanilla Smoothie: 3.5\n"
     ]
    }
   ],
   "source": [
    "class Shopping_cart:\n",
    "    def __init__(self):\n",
    "        self.item= {}\n",
    "\n",
    "\n",
    "    def add_cart(self):\n",
    "        self.item_name = input('Please add your item?')\n",
    "        self.price = input(f\"What is the price of your {self.item_name}?\")\n",
    "        self.item[self.item_name] = self.price\n",
    "    \n",
    "    def show_cart(self):\n",
    "        print('Thank you for shopping.')\n",
    "        print(f'Your cart contains:')\n",
    "        for item_name,price in self.item.items():\n",
    "                print(f\"{item_name}: {price}\")\n",
    "\n",
    "    def delete_cart(self):\n",
    "        remov = input('What would you like to remove from your cart? (capitalization matters)')\n",
    "        try:\n",
    "            del self.item[remov]\n",
    "            print(f'{remov} was successfully removed from your cart.')\n",
    "        except:\n",
    "            print(f'{remov} was not in your cart.')\n",
    "        \n",
    "my_cart=Shopping_cart()        \n",
    "\n",
    "def shopping_list(cart): \n",
    "\n",
    "    shopping=True\n",
    "    while shopping==True:\n",
    "        begin=input(\"What do you want to do? Add/ Show/ Delete/ Quit?\")\n",
    "        \n",
    "        if begin.title()==\"Add\":\n",
    "            cart.add_cart()\n",
    "                  \n",
    "        elif begin.title()=='Show':\n",
    "            cart.show_cart()\n",
    "\n",
    "        elif begin.title()=='Delete':\n",
    "            cart.delete_cart()\n",
    "              \n",
    "        elif begin.title()=='Quit':\n",
    "            for item_name,price in cart.item.items():\n",
    "                print(f\"{item_name}: {price}\")\n",
    "            break\n",
    "\n",
    "        else:\n",
    "            print('Invalid input, please try again.')      \n",
    "\n",
    "shopping_list(my_cart)"
   ]
  },
  {
   "cell_type": "markdown",
   "metadata": {},
   "source": [
    "### Exercise 2 - Write a Python class which has two methods get_String and print_String. get_String accept a string from the user and print_String print the string in upper case"
   ]
  },
  {
   "cell_type": "code",
   "execution_count": 20,
   "metadata": {},
   "outputs": [
    {
     "name": "stdout",
     "output_type": "stream",
     "text": [
      "elephant\n",
      "ELEPHANT\n"
     ]
    }
   ],
   "source": [
    "class String_update:\n",
    "    def __init__(self,str_):\n",
    "        self.str_=str_\n",
    "\n",
    "    def get_string(self):\n",
    "        self.str_ = input(\"What do you have in your mind?\")\n",
    "        print(self.str_)\n",
    "\n",
    "    def print_string(self):\n",
    "        print(self.str_.upper())\n",
    "\n",
    "\n",
    "new_string = String_update(\"\")\n",
    "new_string.get_string()\n",
    "new_string.print_string()\n",
    "\n"
   ]
  }
 ],
 "metadata": {
  "interpreter": {
   "hash": "b93b91927d7b2753ebe242aa7dfcdfef91881393d8b926ec2ce01874b09d686e"
  },
  "kernelspec": {
   "display_name": "Python 3.9.7 64-bit",
   "language": "python",
   "name": "python3"
  },
  "language_info": {
   "codemirror_mode": {
    "name": "ipython",
    "version": 3
   },
   "file_extension": ".py",
   "mimetype": "text/x-python",
   "name": "python",
   "nbconvert_exporter": "python",
   "pygments_lexer": "ipython3",
   "version": "3.9.7"
  },
  "orig_nbformat": 4
 },
 "nbformat": 4,
 "nbformat_minor": 2
}
