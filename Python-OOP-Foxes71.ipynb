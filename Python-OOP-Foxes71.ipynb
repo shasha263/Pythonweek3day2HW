{
 "cells": [
  {
   "cell_type": "markdown",
   "metadata": {},
   "source": [
    "# Object-Oriented-Programming (OOP)"
   ]
  },
  {
   "cell_type": "markdown",
   "metadata": {},
   "source": [
    "## Tasks Today:\n",
    "\n",
    "   \n",
    "\n",
    "1) <b>Creating a Class (Initializing/Declaring)</b> <br>\n",
    "2) <b>Using a Class (Instantiating)</b> <br>\n",
    " &nbsp;&nbsp;&nbsp;&nbsp; a) Creating One Instance <br>\n",
    " &nbsp;&nbsp;&nbsp;&nbsp; b) Creating Multiple Instances <br>\n",
    " &nbsp;&nbsp;&nbsp;&nbsp; c) In-Class Exercise #1 - Create a Class 'Car' and instantiate three different makes of cars <br>\n",
    "3) <b>The \\__init\\__() Method</b> <br>\n",
    " &nbsp;&nbsp;&nbsp;&nbsp; a) The 'self' Attribute <br>\n",
    "4) <b>Class Attributes</b> <br>\n",
    " &nbsp;&nbsp;&nbsp;&nbsp; a) Initializing Attributes <br>\n",
    " &nbsp;&nbsp;&nbsp;&nbsp; b) Setting an Attribute Outside of the \\__init\\__() Method <br>\n",
    " &nbsp;&nbsp;&nbsp;&nbsp; c) Setting Defaults for Attributes <br>\n",
    " &nbsp;&nbsp;&nbsp;&nbsp; d) Accessing Class Attributes <br>\n",
    " &nbsp;&nbsp;&nbsp;&nbsp; e) Changing Class Attributes <br>\n",
    " &nbsp;&nbsp;&nbsp;&nbsp; f) In-Class Exercise #2 - Add a color and wheels attribute to your 'Car' class <br>\n",
    "5) <b>Class Methods</b> <br>\n",
    " &nbsp;&nbsp;&nbsp;&nbsp; a) Creating <br>\n",
    " &nbsp;&nbsp;&nbsp;&nbsp; b) Calling <br>\n",
    " &nbsp;&nbsp;&nbsp;&nbsp; c) Modifying an Attribute's Value Through a Method <br>\n",
    " &nbsp;&nbsp;&nbsp;&nbsp; d) Incrementing an Attribute's Value Through a Method <br>\n",
    " &nbsp;&nbsp;&nbsp;&nbsp; e) In-Class Exercise #3 - Add a method that prints the cars color and wheel number, then call them <br>\n",
    "6) <b>Inheritance</b> <br>\n",
    " &nbsp;&nbsp;&nbsp;&nbsp; a) Syntax for Inheriting from a Parent Class <br>\n",
    " &nbsp;&nbsp;&nbsp;&nbsp; b) The \\__init\\__() Method for a Child Class (super()) <br>\n",
    " &nbsp;&nbsp;&nbsp;&nbsp; c) Defining Attributes and Methods for the Child Class <br>\n",
    " &nbsp;&nbsp;&nbsp;&nbsp; d) Method Overriding <br>\n",
    " &nbsp;&nbsp;&nbsp;&nbsp; e) In-Class Exercise #4 - Create a class 'Ford' that inherits from 'Car' class and initialize it as a Blue Ford Explorer with 4 wheels using the super() method <br>\n",
    "7) <b>Classes as Attributes</b> <br>\n",
    "8) <b>Exercises</b> <br>\n",
    " &nbsp;&nbsp;&nbsp;&nbsp; a) Exercise #1 - Turn the shopping cart program from yesterday into an object-oriented program <br>"
   ]
  },
  {
   "cell_type": "markdown",
   "metadata": {},
   "source": [
    "## Creating a Class (Initializing/Declaring)\n",
    "<p>When creating a class, function, or even a variable you are initializing that object. Initializing and Declaring occur at the same time in Python, whereas in lower level languages you have to declare an object before initializing it. This is the first step in the process of using a class.</p>"
   ]
  },
  {
   "cell_type": "code",
   "execution_count": 10,
   "metadata": {},
   "outputs": [],
   "source": [
    "class Car():\n",
    "    wheels = 4\n",
    "    color = 'blue'\n",
    "    \n",
    "# class ClassName:\n",
    "    # code for the class\n",
    "    \n",
    "class Character:\n",
    "    name = 'Sherlock Holmes'\n",
    "    show = \"BBC's Sherlock\""
   ]
  },
  {
   "cell_type": "markdown",
   "metadata": {},
   "source": [
    "## Using a Class (Instantiating)\n",
    "<p>The process of creating a class is called <i>Instantiating</i>. Each time you create a variable of that type of class, it is referred to as an <i>Instance</i> of that class. This is the second step in the process of using a class.</p>"
   ]
  },
  {
   "cell_type": "markdown",
   "metadata": {},
   "source": [
    "##### Creating One Instance"
   ]
  },
  {
   "cell_type": "code",
   "execution_count": 3,
   "metadata": {},
   "outputs": [
    {
     "name": "stdout",
     "output_type": "stream",
     "text": [
      "<class '__main__.Car'>\n",
      "<class '__main__.Character'>\n"
     ]
    }
   ],
   "source": [
    "# defining a variable as your class\n",
    "# variable_name = ClassName()\n",
    "\n",
    "ford = Car()\n",
    "print(type(ford))\n",
    "\n",
    "sherlock = Character()\n",
    "print(type(sherlock))"
   ]
  },
  {
   "cell_type": "markdown",
   "metadata": {},
   "source": [
    "##### Creating Multiple Instances"
   ]
  },
  {
   "cell_type": "code",
   "execution_count": 16,
   "metadata": {},
   "outputs": [
    {
     "name": "stdout",
     "output_type": "stream",
     "text": [
      "<__main__.Character object at 0x000002324A83AC70>\n",
      "<__main__.Character object at 0x000002324A83AEB0>\n",
      "<__main__.Character object at 0x000002324A83AE20>\n",
      "\n",
      "Sherlock Holmes\n",
      "Santonio Holmes\n",
      "Psych\n",
      "Woody Strode\n",
      "Psych\n",
      "Sherlock Holmes\n",
      "BBC's Sherlock\n"
     ]
    }
   ],
   "source": [
    "char_a = Character()\n",
    "char_b = Character()\n",
    "char_c = Character()\n",
    "\n",
    "print(char_a)\n",
    "print(char_b)\n",
    "print(char_c)\n",
    "print()\n",
    "# access the variables in my instances of a Character\n",
    "# by using dot notation\n",
    "# some people find the difference between accessing one of these variables and calling a class method a little confusing\n",
    "# if we are acessing a variable: instanceName.variable_name\n",
    "# if we are calling a class method: instanceName.method()\n",
    "# note that one has parenthesis (the method/function call) and the other does not (accessing the variable)\n",
    "\n",
    "print(char_a.name)\n",
    "\n",
    "# we can treat each instance's name variable differently\n",
    "# it's a normal variable we can redefine it, whatever\n",
    "\n",
    "char_a.name = 'Santonio Holmes'\n",
    "print(char_a.name)\n",
    "char_a.show = 'Psych'\n",
    "print(char_a.show)\n",
    "\n",
    "\n",
    "char_b.name = 'Woody Strode'\n",
    "print(char_b.name)\n",
    "char_b.show = 'Psych'\n",
    "print(char_b.show)\n",
    "\n",
    "print(char_c.name)\n",
    "print(char_c.show)"
   ]
  },
  {
   "cell_type": "markdown",
   "metadata": {},
   "source": [
    "##### In-Class Exercise #1 - Create a Class 'Car' and Instantiate three different makes of cars"
   ]
  },
  {
   "cell_type": "code",
   "execution_count": 34,
   "metadata": {},
   "outputs": [
    {
     "name": "stdout",
     "output_type": "stream",
     "text": [
      "['Black', 'Gold', 'Green', 'Red', 'White', 'Yellow']\n",
      "Green\n"
     ]
    }
   ],
   "source": [
    "# at minimum, your class Car must have a make variable\n",
    "# i might suggest having a year make model and color\n",
    "\n",
    "class Car:\n",
    "    year = 2000\n",
    "    make = 'Ferrari'\n",
    "    model = 'Enzo'\n",
    "    colors = sorted(['Red', 'Yellow', 'Black', 'White', 'Green', 'Gold'])\n",
    "    \n",
    "    \n",
    "    \n",
    "ferrari = Car()\n",
    "print(ferrari.colors)\n",
    "\n",
    "aston = Car()\n",
    "aston.make, aston.model = 'Aston Martin', 'DB5' # example of multiple variable assignment on a single line\n",
    "# no reason to use multiple variable assignment unless needed (swapping) -> it is less readable\n",
    "aston.colors = aston.colors[2]\n",
    "print(aston.colors)"
   ]
  },
  {
   "cell_type": "markdown",
   "metadata": {},
   "source": [
    "## The \\__init\\__() Method <br>\n",
    "<p>This method is used in almost every created class, and called only once upon the creation of the class instance. This method will initialize all variables needed for the object.</p>"
   ]
  },
  {
   "cell_type": "code",
   "execution_count": 44,
   "metadata": {},
   "outputs": [
    {
     "name": "stdout",
     "output_type": "stream",
     "text": [
      "<__main__.Car object at 0x000002324A83AAC0>\n",
      "{'year': 2000, 'make': 'Ferrari', 'model': 'Enzo', 'color': 'Red'}\n",
      "<__main__.Car object at 0x000002324A83AB80>\n",
      "{'year': 1986, 'make': 'Aston Martin', 'model': 'DB5', 'color': 'Green'}\n",
      "<__main__.Car object at 0x000002324A83AA00>\n",
      "{'year': 2020, 'make': 'McLaren', 'model': 'P1', 'color': 'Orange/Black'}\n"
     ]
    }
   ],
   "source": [
    "class Car:\n",
    "    def __init__(self, year, make, model, color):\n",
    "        self.year = year\n",
    "        self.make = make\n",
    "        self.model = model\n",
    "        self.color = color\n",
    "        \n",
    "ferrari = Car(2000, 'Ferrari', 'Enzo', 'Red')\n",
    "print(ferrari)\n",
    "# the object.__dict__ special attribute takes our class' attributes and puts them in a dictionary for us\n",
    "print(ferrari.__dict__)\n",
    "\n",
    "aston = Car(1986, 'Aston Martin', 'DB5', 'Green')\n",
    "print(aston)\n",
    "print(aston.__dict__)\n",
    "\n",
    "mclaren = Car(2020, 'McLaren', 'P1', 'Orange/Black')\n",
    "print(mclaren)\n",
    "print(mclaren.__dict__)"
   ]
  },
  {
   "cell_type": "markdown",
   "metadata": {},
   "source": [
    "##### The 'self' Attribute <br>\n",
    "<p>This attribute is required to keep track of specific instance's attributes. Without the self attribute, the program would not know how to reference or keep track of an instance's attributes.</p>"
   ]
  },
  {
   "cell_type": "code",
   "execution_count": null,
   "metadata": {},
   "outputs": [],
   "source": [
    "# see above"
   ]
  },
  {
   "cell_type": "markdown",
   "metadata": {},
   "source": [
    "## Class Attributes <br>\n",
    "<p>While variables are inside of a class, they are referred to as attributes and not variables. When someone says 'attribute' you know they're speaking about a class. Attributes can be initialized through the init method, or outside of it.</p>"
   ]
  },
  {
   "cell_type": "markdown",
   "metadata": {},
   "source": [
    "##### Initializing Attributes"
   ]
  },
  {
   "cell_type": "code",
   "execution_count": null,
   "metadata": {},
   "outputs": [],
   "source": [
    "# see above"
   ]
  },
  {
   "cell_type": "markdown",
   "metadata": {},
   "source": [
    "##### Accessing Class Attributes"
   ]
  },
  {
   "cell_type": "code",
   "execution_count": 45,
   "metadata": {
    "scrolled": true
   },
   "outputs": [
    {
     "name": "stdout",
     "output_type": "stream",
     "text": [
      "Ferrari\n"
     ]
    }
   ],
   "source": [
    "# See Above\n",
    "# __init__ method or no __init__ method, still the same instance_name.attribute_name syntax\n",
    "print(ferrari.make)"
   ]
  },
  {
   "cell_type": "markdown",
   "metadata": {},
   "source": [
    "##### Setting Defaults for Attributes"
   ]
  },
  {
   "cell_type": "code",
   "execution_count": 46,
   "metadata": {},
   "outputs": [
    {
     "name": "stdout",
     "output_type": "stream",
     "text": [
      "<__main__.Car object at 0x000002324A83AC40>\n",
      "{'year': 2000, 'make': 'Ferrari', 'model': 'Enzo', 'color': 'Red', 'wheels': 4}\n",
      "<__main__.Car object at 0x000002324A75BC70>\n",
      "{'year': 1986, 'make': 'Aston Martin', 'model': 'DB5', 'color': 'Green', 'wheels': 4}\n",
      "<__main__.Car object at 0x000002324A852100>\n",
      "{'year': 2020, 'make': 'McLaren', 'model': 'P1', 'color': 'Orange/Black', 'wheels': 4}\n"
     ]
    }
   ],
   "source": [
    "class Car:\n",
    "    def __init__(self, year, make, model, color):\n",
    "        self.year = year\n",
    "        self.make = make\n",
    "        self.model = model\n",
    "        self.color = color\n",
    "        self.wheels = 4 # the car's wheels attribute is given a literal value of 4 instead of asking for input\n",
    "        \n",
    "ferrari = Car(2000, 'Ferrari', 'Enzo', 'Red')\n",
    "print(ferrari)\n",
    "# the object.__dict__ special attribute takes our class' attributes and puts them in a dictionary for us\n",
    "print(ferrari.__dict__)\n",
    "\n",
    "aston = Car(1986, 'Aston Martin', 'DB5', 'Green')\n",
    "print(aston)\n",
    "print(aston.__dict__)\n",
    "\n",
    "mclaren = Car(2020, 'McLaren', 'P1', 'Orange/Black')\n",
    "print(mclaren)\n",
    "print(mclaren.__dict__)"
   ]
  },
  {
   "cell_type": "code",
   "execution_count": 55,
   "metadata": {},
   "outputs": [
    {
     "name": "stdout",
     "output_type": "stream",
     "text": [
      "<__main__.Car object at 0x000002324A852550>\n",
      "{'year': 2000, 'make': 'Ferrari', 'model': 'Enzo', 'color': 'Red', 'wheels': 4}\n",
      "<__main__.Car object at 0x000002324A852F70>\n",
      "{'year': 1986, 'make': 'Aston Martin', 'model': 'DB5', 'color': 'Green', 'wheels': 3}\n",
      "<__main__.Car object at 0x000002324A852A60>\n",
      "<class 'dict'> {'year': 2020, 'make': 'McLaren', 'model': 'P1', 'color': 'Black', 'wheels': 6}\n",
      "McLaren\n"
     ]
    }
   ],
   "source": [
    "class Car:\n",
    "    def __init__(self, year, make, model, color='Black', wheels=4):\n",
    "        self.year = year\n",
    "        self.make = make\n",
    "        self.model = model\n",
    "        self.color = color\n",
    "        self.wheels = wheels\n",
    "        \n",
    "ferrari = Car(2000, 'Ferrari', 'Enzo', 'Red')\n",
    "print(ferrari)\n",
    "# the object.__dict__ special attribute takes our class' attributes and puts them in a dictionary for us\n",
    "print(ferrari.__dict__)\n",
    "\n",
    "aston = Car(1986, 'Aston Martin', 'DB5', 'Green', 3)\n",
    "print(aston)\n",
    "print(aston.__dict__)\n",
    "\n",
    "mclaren = Car(year=2020, make='McLaren', model='P1', wheels=6)\n",
    "print(mclaren)\n",
    "x = mclaren.__dict__\n",
    "print(type(x), x)\n",
    "print(mclaren.make)"
   ]
  },
  {
   "cell_type": "code",
   "execution_count": 61,
   "metadata": {},
   "outputs": [
    {
     "name": "stdout",
     "output_type": "stream",
     "text": [
      "<__main__.Example object at 0x000002324A7620D0>\n"
     ]
    }
   ],
   "source": [
    "class Example:\n",
    "    def __init__(self):\n",
    "        pass\n",
    "\n",
    "test = Example()\n",
    "print(test)"
   ]
  },
  {
   "cell_type": "markdown",
   "metadata": {},
   "source": [
    "##### Changing Class Attributes <br>\n",
    "<p>Keep in mind there are global class attributes and then there are attributes only available to each class instance which won't affect other classes.</p>"
   ]
  },
  {
   "cell_type": "code",
   "execution_count": 66,
   "metadata": {},
   "outputs": [
    {
     "name": "stdout",
     "output_type": "stream",
     "text": [
      "<__main__.Car object at 0x000002324A852A60>\n",
      "['This McLaren can have the following number of wheels', 1, 2, 3, 4, 5, 6]\n",
      "['This McLaren can have the following number of wheels', 1, 2, 3, 4, 5, 6]\n",
      "{'year': 2020, 'make': 'McLaren', 'model': 'P1', 'color': 'Black', 'wheels': ['This McLaren can have the following number of wheels', 1, 2, 3, 4, 5, 6]}\n"
     ]
    }
   ],
   "source": [
    "print(mclaren)\n",
    "print(mclaren.wheels)\n",
    "mclaren.wheels = ['This McLaren can have the following number of wheels', 1, 2, 3, 4, 5, 6]\n",
    "print(mclaren.wheels)\n",
    "print(mclaren.__dict__)"
   ]
  },
  {
   "cell_type": "code",
   "execution_count": null,
   "metadata": {},
   "outputs": [],
   "source": []
  },
  {
   "cell_type": "markdown",
   "metadata": {},
   "source": [
    "##### In-Class Exercise #2 - Add a doors and seats attribute to your 'Car' class then print out two different instances with different doors and seats"
   ]
  },
  {
   "cell_type": "code",
   "execution_count": 68,
   "metadata": {},
   "outputs": [
    {
     "name": "stdout",
     "output_type": "stream",
     "text": [
      "<__main__.Car object at 0x000002324A8522E0>\n",
      "{'year': 1999, 'make': 'Porsche', 'model': '911 Carrera S', 'color': 'Grey', 'wheels': 4, 'doors': 2, 'seats': 4}\n",
      "<__main__.Car object at 0x000002324A69E970>\n",
      "{'year': 2021, 'make': 'Alpine', 'model': 'some french name', 'color': 'Blue', 'wheels': 4, 'doors': 4, 'seats': 5}\n"
     ]
    }
   ],
   "source": [
    "# Over lunch - work on this exercise\n",
    "# When we come back at 1:15 central\n",
    "# I'll throw you guys back in the same breakout rooms\n",
    "# and I want you to go around and share what you did for this exercise\n",
    "\n",
    "# Try to use the __init__ method for your class creation\n",
    "\n",
    "class Car:\n",
    "    def __init__(self, year, make, model, color='Black', wheels=4, doors=2, seats=2):\n",
    "        self.year = year\n",
    "        self.make = make\n",
    "        self.model = model\n",
    "        self.color = color\n",
    "        self.wheels = wheels\n",
    "        self.doors = doors\n",
    "        self.seats = seats\n",
    "        \n",
    "carrera = Car(1999, 'Porsche', '911 Carrera S', 'Grey', seats=4)\n",
    "print(carrera)\n",
    "print(carrera.__dict__)\n",
    "\n",
    "alpine = Car(2021, 'Alpine', 'some french name', 'Blue', doors=4, seats=5)\n",
    "print(alpine)\n",
    "print(alpine.__dict__)"
   ]
  },
  {
   "cell_type": "markdown",
   "metadata": {},
   "source": [
    "## Class Methods <br>\n",
    "<p>While inside of a class, functions are referred to as 'methods'. If you hear someone mention methods, they're speaking about classes. Methods are essentially functions, but only callable on the instances of a class.</p>"
   ]
  },
  {
   "cell_type": "markdown",
   "metadata": {},
   "source": [
    "##### Creating"
   ]
  },
  {
   "cell_type": "code",
   "execution_count": 78,
   "metadata": {},
   "outputs": [
    {
     "name": "stdout",
     "output_type": "stream",
     "text": [
      "<__main__.Car object at 0x000002324A881490>\n",
      "{'year': 1999, 'make': 'Porsche', 'model': '911 Carrera S', 'color': 'Grey', 'wheels': 4, 'doors': 2, 'seats': 4}\n",
      "<__main__.Car object at 0x000002324A881970>\n",
      "{'year': 2021, 'make': 'Alpine', 'model': 'some french name', 'color': 'Blue', 'wheels': 4, 'doors': 4, 'seats': 5}\n",
      "\n",
      "Yahoo This is a Blue 2021 Alpine some french name with 4 wheels, 4 doors, and 5 seats. Vroom vroom.\n"
     ]
    }
   ],
   "source": [
    "class Car:\n",
    "    def __init__(self, year, make, model, color='Black', wheels=4, doors=2, seats=2):\n",
    "        self.year = year\n",
    "        self.make = make\n",
    "        self.model = model\n",
    "        self.color = color\n",
    "        self.wheels = wheels\n",
    "        self.doors = doors\n",
    "        self.seats = seats\n",
    "        \n",
    "    def display(self, a):\n",
    "        print(f'{a} This is a {self.color} {self.year} {self.make} {self.model} with {self.wheels} wheels, {self.doors} doors, and {self.seats} seats. Vroom vroom.')\n",
    "        \n",
    "carrera = Car(1999, 'Porsche', '911 Carrera S', 'Grey', seats=4)\n",
    "print(carrera)\n",
    "print(carrera.__dict__)\n",
    "\n",
    "alpine = Car(2021, 'Alpine', 'some french name', 'Blue', doors=4, seats=5)\n",
    "print(alpine)\n",
    "print(alpine.__dict__)\n",
    "\n",
    "print()\n",
    "alpine.display('Yahoo')"
   ]
  },
  {
   "cell_type": "markdown",
   "metadata": {},
   "source": [
    "##### Calling"
   ]
  },
  {
   "cell_type": "code",
   "execution_count": null,
   "metadata": {},
   "outputs": [],
   "source": [
    "# See Above"
   ]
  },
  {
   "cell_type": "markdown",
   "metadata": {},
   "source": [
    "##### Modifying an Attribute's Value Through a Method"
   ]
  },
  {
   "cell_type": "code",
   "execution_count": 81,
   "metadata": {},
   "outputs": [
    {
     "name": "stdout",
     "output_type": "stream",
     "text": [
      "<__main__.Car object at 0x000002324A83AFD0>\n",
      "{'year': 1999, 'make': 'Porsche', 'model': '911 Carrera S', 'color': 'Grey', 'wheels': 4, 'doors': 2, 'seats': 4}\n",
      "<__main__.Car object at 0x000002324A83A160>\n",
      "{'year': 2021, 'make': 'Alpine', 'model': 'some french name', 'color': 'Blue', 'wheels': 4, 'doors': 4, 'seats': 5}\n",
      "\n",
      "Yahoo This is a Blue 2021 Alpine some french name with 4 wheels, 4 doors, and 5 seats. Vroom vroom.\n",
      "\n",
      "Your Porsche 911 Carrera S has been repainted from Grey to Yellow.\n",
      "Yellow\n",
      "Goldenrod\n"
     ]
    }
   ],
   "source": [
    "class Car:\n",
    "    def __init__(self, year, make, model, color='Black', wheels=4, doors=2, seats=2):\n",
    "        self.year = year\n",
    "        self.make = make\n",
    "        self.model = model\n",
    "        self.color = color\n",
    "        self.wheels = wheels\n",
    "        self.doors = doors\n",
    "        self.seats = seats\n",
    "        \n",
    "    def display(self, a):\n",
    "        print(f'{a} This is a {self.color} {self.year} {self.make} {self.model} with {self.wheels} wheels, {self.doors} doors, and {self.seats} seats. Vroom vroom.')\n",
    "    \n",
    "    def setColor(self, newColor):\n",
    "        oldcolor = self.color\n",
    "        self.color = newColor\n",
    "        print(f'Your {self.make} {self.model} has been repainted from {oldcolor} to {self.color}.')\n",
    "    \n",
    "carrera = Car(1999, 'Porsche', '911 Carrera S', 'Grey', seats=4)\n",
    "print(carrera)\n",
    "print(carrera.__dict__)\n",
    "\n",
    "alpine = Car(2021, 'Alpine', 'some french name', 'Blue', doors=4, seats=5)\n",
    "print(alpine)\n",
    "print(alpine.__dict__)\n",
    "\n",
    "print()\n",
    "alpine.display('Yahoo')\n",
    "print()\n",
    "carrera.setColor('Yellow')\n",
    "print(carrera.color)\n",
    "carrera.color = 'Goldenrod'\n",
    "print(carrera.color)"
   ]
  },
  {
   "cell_type": "markdown",
   "metadata": {},
   "source": [
    "##### Incrementing an Attribute's Value Through a Method"
   ]
  },
  {
   "cell_type": "code",
   "execution_count": 86,
   "metadata": {},
   "outputs": [
    {
     "name": "stdout",
     "output_type": "stream",
     "text": [
      "<__main__.Car object at 0x000002324A83A640>\n",
      "{'year': 1999, 'make': 'Porsche', 'model': '911 Carrera S', 'color': 'Grey', 'wheels': 4, 'doors': 2, 'seats': 4, 'age': 22}\n",
      "Your Porsche 911 Carrera S is now a year older. It is 23.\n",
      "Your Porsche 911 Carrera S is now a year older. It is 24.\n",
      "Your Porsche 911 Carrera S is now a year older. It is 25.\n",
      "Your Porsche 911 Carrera S is now a year older. It is 26.\n",
      "Your Porsche 911 Carrera S is now a year older. It is 27.\n",
      "Your Porsche 911 Carrera S is now a year older. It is 28.\n",
      "Your Porsche 911 Carrera S is now a year older. It is 29.\n",
      "Your Porsche 911 Carrera S is now a year older. It is 30.\n",
      "Your Porsche 911 Carrera S is now a year older. It is 31.\n"
     ]
    }
   ],
   "source": [
    "class Car:\n",
    "    def __init__(self, year, make, model, color='Black', wheels=4, doors=2, seats=2):\n",
    "        self.year = year\n",
    "        self.make = make\n",
    "        self.model = model\n",
    "        self.color = color\n",
    "        self.wheels = wheels\n",
    "        self.doors = doors\n",
    "        self.seats = seats\n",
    "        self.age = 2021-year\n",
    "        \n",
    "    def display(self, a):\n",
    "        print(f'{a} This is a {self.color} {self.year} {self.make} {self.model} with {self.wheels} wheels, {self.doors} doors, and {self.seats} seats. Vroom vroom.')\n",
    "    \n",
    "    def setColor(self, newColor):\n",
    "        oldcolor = self.color\n",
    "        self.color = newColor\n",
    "        print(f'Your {self.make} {self.model} has been repainted from {oldcolor} to {self.color}.')\n",
    "        \n",
    "    def older(self):\n",
    "        self.age += 1\n",
    "        print(f'Your {self.make} {self.model} is now a year older. It is {self.age}.')\n",
    "    \n",
    "carrera = Car(1999, 'Porsche', '911 Carrera S', 'Grey', seats=4)\n",
    "print(carrera)\n",
    "print(carrera.__dict__)\n",
    "\n",
    "\n",
    "carrera.older()\n",
    "carrera.older()\n",
    "carrera.older()\n",
    "carrera.older()\n",
    "carrera.older()\n",
    "carrera.older()\n",
    "carrera.older()\n",
    "carrera.older()\n",
    "carrera.older()"
   ]
  },
  {
   "cell_type": "markdown",
   "metadata": {},
   "source": [
    "##### In-Class Exercise #3 - Add a method that takes in three parameters of year, doors and seats and prints out a formatted print statement with make, model, year, seats, and doors"
   ]
  },
  {
   "cell_type": "code",
   "execution_count": 94,
   "metadata": {},
   "outputs": [
    {
     "name": "stdout",
     "output_type": "stream",
     "text": [
      "{'make': 'BMW', 'model': 'M3'}\n",
      "This car is from 2012 and is a BMW M3 and has 2 doors and 4 seats.\n",
      "{'make': 'BMW', 'model': 'M3'}\n"
     ]
    }
   ],
   "source": [
    "# Create class with 2 paramters inside of the __init__ which are make and model\n",
    "\n",
    "# Inside of the Car class create a method that has 4 parameter in total (self,year,door,seats)\n",
    "\n",
    "# Output: This car is from 2019 and is a Ford Expolorer and has 4 doors and 5 seats\n",
    "\n",
    "class Car:\n",
    "    def __init__(self, make, model):\n",
    "        self.make = make\n",
    "        self.model = model\n",
    "    \n",
    "    def display(self, year, door, seats):\n",
    "        print(f'This car is from {year} and is a {self.make} {self.model} and has {door} doors and {seats} seats.')\n",
    "        \n",
    "bmw = Car('BMW', 'M3')\n",
    "print(bmw.__dict__)\n",
    "bmw.display(2012, 2, 4)\n",
    "print(bmw.__dict__)"
   ]
  },
  {
   "cell_type": "markdown",
   "metadata": {},
   "source": [
    "## Inheritance <br>\n",
    "<p>You can create a child-parent relationship between two classes by using inheritance. What this allows you to do is have overriding methods, but also inherit traits from the parent class. Think of it as an actual parent and child, the child will inherit the parent's genes, as will the classes in OOP</p>"
   ]
  },
  {
   "cell_type": "markdown",
   "metadata": {},
   "source": [
    "##### Syntax for Inheriting from a Parent Class"
   ]
  },
  {
   "cell_type": "code",
   "execution_count": null,
   "metadata": {},
   "outputs": [],
   "source": []
  },
  {
   "cell_type": "markdown",
   "metadata": {},
   "source": [
    "##### The \\__init\\__() Method for a Child Class - super()"
   ]
  },
  {
   "cell_type": "code",
   "execution_count": null,
   "metadata": {
    "scrolled": true
   },
   "outputs": [],
   "source": []
  },
  {
   "cell_type": "markdown",
   "metadata": {},
   "source": [
    "##### Defining Attributes and Methods for the Child Class"
   ]
  },
  {
   "cell_type": "code",
   "execution_count": null,
   "metadata": {},
   "outputs": [],
   "source": [
    "# See Above"
   ]
  },
  {
   "cell_type": "markdown",
   "metadata": {},
   "source": [
    "##### Method Overriding"
   ]
  },
  {
   "cell_type": "code",
   "execution_count": null,
   "metadata": {},
   "outputs": [],
   "source": [
    "# See Above"
   ]
  },
  {
   "cell_type": "markdown",
   "metadata": {},
   "source": [
    "## Classes as Attributes <br>\n",
    "<p>Classes can also be used as attributes within another class. This is useful in situations where you need to keep variables locally stored, instead of globally stored.</p>"
   ]
  },
  {
   "cell_type": "code",
   "execution_count": 143,
   "metadata": {},
   "outputs": [],
   "source": [
    "# I'm going to plan a little zoo\n",
    "# I'm going to have four classes\n",
    "# Zookeeper - object (will have __init__)\n",
    "    # attrs: name, age\n",
    "# Zoo - object (will have __init__)\n",
    "    # attrs: zookeeper, location, list of animals\n",
    "# Animal - object (will have __init__)\n",
    "    # attrs: name, habitat, description\n",
    "# Main class - not an object, just where I put my instantiations/driver code\n",
    "\n",
    "# Do I make an attribute or a method?\n",
    "# If what you are doing/have is a characteristic or piece of data- it should be probably be an attribute\n",
    "# If what you are doing/have is a process or an action its gonna be a method/function\n",
    "# an attribute is something that a class has\n",
    "# a method is something that a class does\n",
    "\n",
    "# start with skeleton code\n",
    "\n",
    "class Animal:\n",
    "    def __init__(self, name, habitat, description):\n",
    "        self.name = name\n",
    "        self.habitat = habitat\n",
    "        self.description = description\n",
    "    \n",
    "    def display(self):\n",
    "        print(f'The {self.name} lives in the {self.habitat}. The {self.name} is {self.description}')\n",
    "\n",
    "class Zookeeper:\n",
    "    def __init__(self, name, age):\n",
    "        self.name = name\n",
    "        self.age = age\n",
    "    \n",
    "class Zoo:\n",
    "    def __init__(self, location, zookeeper):\n",
    "        self.zookeeper = zookeeper\n",
    "        self.location = location\n",
    "        self.animals = []\n",
    "    \n",
    "    #goal: write a method that accepts input of Zoo (self) and the name of an animal\n",
    "    # the zoo should either tell you it doesn't have that animal or it should show you the display information\n",
    "    def findAnimal(self, a_name):\n",
    "        # loop thru animals list, compare provided name to each animal object's name\n",
    "        for a in self.animals:\n",
    "            if a.name == a_name.title():\n",
    "                a.display()\n",
    "                return\n",
    "        print(f\"Sorry, we don't have that animal at this Zoo. Someone tell Zookeeper {self.zookeeper.name} to go buy one.\")\n",
    "\n",
    "class Main:\n",
    "    @classmethod # lets us run this run method without instantiating the Main class\n",
    "    def run(self):\n",
    "        fennec = Animal('Fennec Fox', 'desert', 'a small, large-eared fox native to the deserts of Africa.')\n",
    "        rat = Animal('Rat', 'kitchen', 'talented little chef- especially if named Remy.')\n",
    "        bear = Animal('Polar Bear', 'arctic tundra', 'a cute and cuddly animal that may rip your face off.')\n",
    "        ego = Zookeeper('Anton Ego', 47)\n",
    "        azoo = Zoo('Paris, France', ego)\n",
    "        azoo.animals.append(fennec)\n",
    "        azoo.animals.append(rat)\n",
    "        azoo.animals.append(bear)\n",
    "        while True:\n",
    "            look = input('What animal do you want to see? (q if you want to leave)')\n",
    "            if look.lower() == 'q':\n",
    "                break\n",
    "            azoo.findAnimal(look)\n",
    "        print(f\"Thank you for visiting {azoo.zookeeper.name}'s zoo in {azoo.location}.\")"
   ]
  },
  {
   "cell_type": "code",
   "execution_count": 144,
   "metadata": {},
   "outputs": [
    {
     "name": "stdout",
     "output_type": "stream",
     "text": [
      "What animal do you want to see? (q if you want to leave)rat\n",
      "The Rat lives in the kitchen. The Rat is talented little chef- especially if named Remy.\n",
      "What animal do you want to see? (q if you want to leave)bear\n",
      "Sorry, we don't have that animal at this Zoo. Someone tell Zookeeper Anton Ego to go buy one.\n",
      "What animal do you want to see? (q if you want to leave)polar bear\n",
      "The Polar Bear lives in the arctic tundra. The Polar Bear is a cute and cuddly animal that may rip your face off.\n",
      "What animal do you want to see? (q if you want to leave)fox\n",
      "Sorry, we don't have that animal at this Zoo. Someone tell Zookeeper Anton Ego to go buy one.\n",
      "What animal do you want to see? (q if you want to leave)fennec fox\n",
      "The Fennec Fox lives in the desert. The Fennec Fox is a small, large-eared fox native to the deserts of Africa.\n",
      "What animal do you want to see? (q if you want to leave)q\n",
      "Thank you for visiting Anton Ego's zoo in Paris, France.'\n"
     ]
    }
   ],
   "source": [
    "Main.run()"
   ]
  },
  {
   "cell_type": "markdown",
   "metadata": {},
   "source": [
    "# Exercises"
   ]
  },
  {
   "cell_type": "markdown",
   "metadata": {},
   "source": [
    "### Exercise 1 - Turn the shopping cart program from yesterday into an object-oriented program\n",
    "\n",
    "The comments in the cell below are there as a guide for thinking about the problem. However, if you feel a different way is best for you and your own thought process, please do what feels best for you by all means."
   ]
  },
  {
   "cell_type": "code",
   "execution_count": null,
   "metadata": {},
   "outputs": [],
   "source": [
    "# Create a class called cart that retains items and has methods to add, remove, and show\n",
    "\n",
    "class Cart():\n",
    "    pass\n",
    "    "
   ]
  },
  {
   "cell_type": "markdown",
   "metadata": {},
   "source": [
    "### Exercise 2 - Write a Python class which has two methods get_String and print_String. get_String accept a string from the user and print_String print the string in upper case"
   ]
  },
  {
   "cell_type": "code",
   "execution_count": null,
   "metadata": {},
   "outputs": [],
   "source": []
  }
 ],
 "metadata": {
  "kernelspec": {
   "display_name": "Python 3",
   "language": "python",
   "name": "python3"
  },
  "language_info": {
   "codemirror_mode": {
    "name": "ipython",
    "version": 3
   },
   "file_extension": ".py",
   "mimetype": "text/x-python",
   "name": "python",
   "nbconvert_exporter": "python",
   "pygments_lexer": "ipython3",
   "version": "3.8.8"
  }
 },
 "nbformat": 4,
 "nbformat_minor": 2
}
