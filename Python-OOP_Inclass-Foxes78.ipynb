{
 "cells": [
  {
   "cell_type": "markdown",
   "metadata": {},
   "source": [
    "# Object-Oriented-Programming (OOP)"
   ]
  },
  {
   "cell_type": "markdown",
   "metadata": {},
   "source": [
    "## Tasks Today:\n",
    "\n",
    "   \n",
    "\n",
    "1) <b>Creating a Class (Initializing/Declaring)</b> <br>\n",
    "2) <b>Using a Class (Instantiating)</b> <br>\n",
    " &nbsp;&nbsp;&nbsp;&nbsp; a) Creating One Instance <br>\n",
    " &nbsp;&nbsp;&nbsp;&nbsp; b) Creating Multiple Instances <br>\n",
    " &nbsp;&nbsp;&nbsp;&nbsp; c) In-Class Exercise #1 - Create a Class 'Car' and instantiate three different makes of cars <br>\n",
    "3) <b>The \\__init\\__() Method</b> <br>\n",
    " &nbsp;&nbsp;&nbsp;&nbsp; a) The 'self' Attribute <br>\n",
    "4) <b>Class Attributes</b> <br>\n",
    " &nbsp;&nbsp;&nbsp;&nbsp; a) Initializing Attributes <br>\n",
    " &nbsp;&nbsp;&nbsp;&nbsp; b) Setting an Attribute Outside of the \\__init\\__() Method <br>\n",
    " &nbsp;&nbsp;&nbsp;&nbsp; c) Setting Defaults for Attributes <br>\n",
    " &nbsp;&nbsp;&nbsp;&nbsp; d) Accessing Class Attributes <br>\n",
    " &nbsp;&nbsp;&nbsp;&nbsp; e) Changing Class Attributes <br>\n",
    " &nbsp;&nbsp;&nbsp;&nbsp; f) In-Class Exercise #2 - Add a color and wheels attribute to your 'Car' class <br>\n",
    "5) <b>Class Methods</b> <br>\n",
    " &nbsp;&nbsp;&nbsp;&nbsp; a) Creating <br>\n",
    " &nbsp;&nbsp;&nbsp;&nbsp; b) Calling <br>\n",
    " &nbsp;&nbsp;&nbsp;&nbsp; c) Modifying an Attribute's Value Through a Method <br>\n",
    " &nbsp;&nbsp;&nbsp;&nbsp; d) Incrementing an Attribute's Value Through a Method <br>\n",
    " &nbsp;&nbsp;&nbsp;&nbsp; e) In-Class Exercise #3 - Add a method that prints the cars color and wheel number, then call them <br>\n",
    "6) <b>Inheritance</b> <br>\n",
    " &nbsp;&nbsp;&nbsp;&nbsp; a) Syntax for Inheriting from a Parent Class <br>\n",
    " &nbsp;&nbsp;&nbsp;&nbsp; b) The \\__init\\__() Method for a Child Class (super()) <br>\n",
    " &nbsp;&nbsp;&nbsp;&nbsp; c) Defining Attributes and Methods for the Child Class <br>\n",
    " &nbsp;&nbsp;&nbsp;&nbsp; d) Method Overriding <br>\n",
    " &nbsp;&nbsp;&nbsp;&nbsp; e) In-Class Exercise #4 - Create a class 'Ford' that inherits from 'Car' class and initialize it as a Blue Ford Explorer with 4 wheels using the super() method <br>\n",
    "7) <b>Classes as Attributes</b> <br>\n",
    "8) <b>Exercises</b> <br>\n",
    " &nbsp;&nbsp;&nbsp;&nbsp; a) Exercise #1 - Turn the shopping cart program from yesterday into an object-oriented program <br>"
   ]
  },
  {
   "cell_type": "markdown",
   "metadata": {},
   "source": [
    "## Creating a Class (Initializing/Declaring)\n",
    "<p>When creating a class, function, or even a variable you are initializing that object. Initializing and Declaring occur at the same time in Python, whereas in lower level languages you have to declare an object before initializing it. This is the first step in the process of using a class.</p>"
   ]
  },
  {
   "cell_type": "code",
   "execution_count": 1,
   "metadata": {},
   "outputs": [],
   "source": [
    "# class names are written with the first letter capitalized\n",
    "# variables that belong to a class are known as class variables/attributes/properties\n",
    "class Car():\n",
    "    wheels = 4\n",
    "    color = 'blue'"
   ]
  },
  {
   "cell_type": "code",
   "execution_count": 3,
   "metadata": {},
   "outputs": [
    {
     "ename": "NameError",
     "evalue": "name 'wheels' is not defined",
     "output_type": "error",
     "traceback": [
      "\u001b[1;31m---------------------------------------------------------------------------\u001b[0m",
      "\u001b[1;31mNameError\u001b[0m                                 Traceback (most recent call last)",
      "\u001b[1;32m<ipython-input-3-886f280f07a4>\u001b[0m in \u001b[0;36m<module>\u001b[1;34m\u001b[0m\n\u001b[1;32m----> 1\u001b[1;33m \u001b[0mprint\u001b[0m\u001b[1;33m(\u001b[0m\u001b[0mwheels\u001b[0m\u001b[1;33m)\u001b[0m\u001b[1;33m\u001b[0m\u001b[1;33m\u001b[0m\u001b[0m\n\u001b[0m",
      "\u001b[1;31mNameError\u001b[0m: name 'wheels' is not defined"
     ]
    }
   ],
   "source": [
    "print(wheels)\n",
    "# variables defined within a class (aka class attributes)\n",
    "    # have local scope to that class\n",
    "    # meaning they do not exist outside of the class"
   ]
  },
  {
   "cell_type": "code",
   "execution_count": 2,
   "metadata": {},
   "outputs": [],
   "source": [
    "# function definition is somewhat equivalent to a class declaration\n",
    "def myFunc():\n",
    "    print('hello!')"
   ]
  },
  {
   "cell_type": "markdown",
   "metadata": {},
   "source": [
    "## Using a Class (Instantiating)\n",
    "<p>The process of creating a class is called <i>Instantiating</i>. Each time you create a variable of that type of class, it is referred to as an <i>Instance</i> of that class. This is the second step in the process of using a class.</p>"
   ]
  },
  {
   "cell_type": "code",
   "execution_count": null,
   "metadata": {},
   "outputs": [],
   "source": [
    "# instiating a variable of a class is comparable to calling a function\n",
    "    # we're taking a plan/blueprint/process definition and actually putting it into action\n",
    "\n",
    "# when we instantiate a class we are doing variable assignment\n",
    "# setting a variable equal to what you could call a function call of the class name\n",
    "    # note this isn't actually a function call, its class instantiation, but the syntax is very similar"
   ]
  },
  {
   "cell_type": "markdown",
   "metadata": {},
   "source": [
    "##### Creating One Instance"
   ]
  },
  {
   "cell_type": "code",
   "execution_count": 4,
   "metadata": {},
   "outputs": [
    {
     "name": "stdout",
     "output_type": "stream",
     "text": [
      "<__main__.Car object at 0x00000292D99D28E0>\n"
     ]
    }
   ],
   "source": [
    "ford = Car()\n",
    "print(ford)"
   ]
  },
  {
   "cell_type": "markdown",
   "metadata": {},
   "source": [
    "##### Creating Multiple Instances"
   ]
  },
  {
   "cell_type": "code",
   "execution_count": 5,
   "metadata": {},
   "outputs": [
    {
     "name": "stdout",
     "output_type": "stream",
     "text": [
      "<__main__.Car object at 0x00000292D99D2D90> <__main__.Car object at 0x00000292D99D2C40> <__main__.Car object at 0x00000292D99D2C10>\n"
     ]
    }
   ],
   "source": [
    "mclaren = Car()\n",
    "ferrari = Car()\n",
    "aston_martin = Car()\n",
    "print(mclaren, ferrari, aston_martin)"
   ]
  },
  {
   "cell_type": "code",
   "execution_count": 8,
   "metadata": {},
   "outputs": [
    {
     "name": "stdout",
     "output_type": "stream",
     "text": [
      "<class 'str'>\n"
     ]
    }
   ],
   "source": [
    "a = 'hello'\n",
    "print(type(a))"
   ]
  },
  {
   "cell_type": "markdown",
   "metadata": {},
   "source": [
    "##### In-Class Exercise #1 - Create a Class 'Car' and Instantiate three different makes of cars"
   ]
  },
  {
   "cell_type": "code",
   "execution_count": 18,
   "metadata": {
    "scrolled": true
   },
   "outputs": [
    {
     "name": "stdout",
     "output_type": "stream",
     "text": [
      "<__main__.Car object at 0x00000292D99D2FD0> \n",
      "4\n",
      "red\n",
      "2\n",
      "Honda Alpine Mercedes\n"
     ]
    }
   ],
   "source": [
    "# class declaration\n",
    "class Car:\n",
    "    # has 4 attributes - wheels, color, doors, and make\n",
    "    wheels = 4\n",
    "    color = 'red'\n",
    "    doors = 2\n",
    "    make = ''\n",
    "    \n",
    "# create instances of the class\n",
    "alpine = Car()\n",
    "mercedes = Car() # create a mercedes that has wheels, color, doors, make\n",
    "honda = Car()\n",
    "print(honda, honda.make)\n",
    "\n",
    "# accessing those attributes\n",
    "# dot notation\n",
    "# class_instance_name.attribute\n",
    "# wheels is a variable that exists inside of the honda instance of the car class\n",
    "print(honda.wheels)\n",
    "print(mercedes.color)\n",
    "print(alpine.doors)\n",
    "\n",
    "# and i can treat those variables just like normal variables\n",
    "# variable assignment on a class instance's attributes\n",
    "honda.make = 'Honda'\n",
    "alpine.make = 'Alpine'\n",
    "mercedes.make = 'Mercedes'\n",
    "print(honda.make, alpine.make, mercedes.make)"
   ]
  },
  {
   "cell_type": "code",
   "execution_count": null,
   "metadata": {},
   "outputs": [],
   "source": []
  },
  {
   "cell_type": "markdown",
   "metadata": {},
   "source": [
    "## The \\__init\\__() Method <br>\n",
    "<p>This method is used in almost every created class, and called only once upon the creation of the class instance. This method will initialize all variables needed for the object.</p>"
   ]
  },
  {
   "cell_type": "code",
   "execution_count": 20,
   "metadata": {},
   "outputs": [],
   "source": [
    "# the __init__() is a method that has special behavior\n",
    "    # it is automatically called when a class is instantiated\n",
    "    # and is only called once at instantiation\n",
    "    # it is responsible for attribute assignment\n",
    "\n",
    "# let's create the same car method from above but with an init method\n",
    "class Car:\n",
    "    # set up my __init__() method\n",
    "    # you must call it __init__ for it to work properly\n",
    "    # init, _init_, init__, __init all will not work\n",
    "    # your init method will always need to accept self as a parameter\n",
    "    def __init__(self):\n",
    "        # self.attribute_name = attribute_value\n",
    "        self.make = ''\n",
    "        self.model = ''\n",
    "        self.wheels = 4\n",
    "        self.color = 'red'\n",
    "        self.doors = 2"
   ]
  },
  {
   "cell_type": "code",
   "execution_count": 23,
   "metadata": {},
   "outputs": [
    {
     "name": "stdout",
     "output_type": "stream",
     "text": [
      "red\n",
      "Alfa Romeo\n",
      "red\n"
     ]
    }
   ],
   "source": [
    "alfaromeo = Car()\n",
    "print(alfaromeo.color)\n",
    "alfaromeo.make = 'Alfa Romeo'\n",
    "print(alfaromeo.make)\n",
    "honda = Car()\n",
    "print(honda.color)"
   ]
  },
  {
   "cell_type": "markdown",
   "metadata": {},
   "source": [
    "##### The 'self' Attribute <br>\n",
    "<p>This attribute is required to keep track of specific instance's attributes. Without the self attribute, the program would not know how to reference or keep track of an instance's attributes.</p>"
   ]
  },
  {
   "cell_type": "code",
   "execution_count": null,
   "metadata": {},
   "outputs": [],
   "source": [
    "# see above - self is used to help the computer keep track of and differentiate between instances of a class\n",
    "# self inside of the class declaration is essentially a placeholder for the variable name of the instance"
   ]
  },
  {
   "cell_type": "code",
   "execution_count": 46,
   "metadata": {},
   "outputs": [
    {
     "name": "stdout",
     "output_type": "stream",
     "text": [
      "<__main__.Car object at 0x00000292D9AD0BB0> Ferrari SF21\n",
      "<__main__.Car object at 0x00000292D9AD0AC0> Honda RB16B\n",
      "<__main__.Car object at 0x00000292D9AD0520> Mercedes W12 E PERFORMANCE\n",
      "red blue silver\n"
     ]
    }
   ],
   "source": [
    "# what if I wanted to have make and model be defined as different values when my car was instantiated\n",
    "# that is the main purpose of the __init__ method\n",
    "# let's redefine the above Car class for that purpose\n",
    "class Car:\n",
    "    def __init__(self, make, model, color):\n",
    "        self.make = make\n",
    "        self.model = model\n",
    "        self.wheels = 4\n",
    "        self.color = color\n",
    "        self.doors = 2\n",
    "\n",
    "scuderiaF1 = Car('Ferrari', 'SF21', 'red') # providing value for the attributes at instantiation\n",
    "rbF1 = Car('Honda', 'RB16B', 'blue')\n",
    "print(scuderiaF1, scuderiaF1.make, scuderiaF1.model)\n",
    "print(rbF1, rbF1.make, rbF1.model)\n",
    "mercF1 = Car('Mercedes', 'W12 E PERFORMANCE', 'silver')\n",
    "print(mercF1, mercF1.make, mercF1.model)\n",
    "\n",
    "print(scuderiaF1.color, rbF1.color, mercF1.color)"
   ]
  },
  {
   "cell_type": "markdown",
   "metadata": {},
   "source": [
    "## Class Attributes <br>\n",
    "<p>While variables are inside of a class, they are referred to as attributes and not variables. When someone says 'attribute' you know they're speaking about a class. Attributes can be initialized through the init method, or outside of it.</p>"
   ]
  },
  {
   "cell_type": "markdown",
   "metadata": {},
   "source": [
    "##### Initializing Attributes"
   ]
  },
  {
   "cell_type": "code",
   "execution_count": 48,
   "metadata": {},
   "outputs": [
    {
     "name": "stdout",
     "output_type": "stream",
     "text": [
      "<__main__.Dog object at 0x00000292D99086D0>\n",
      "English Springer Spaniel Sir Wesley Charles of Nottingham 4 2\n"
     ]
    }
   ],
   "source": [
    "# attributes can be as simple as a single piece of data\n",
    "# or as complicated as a multi-layered dictionary containing whatever you want\n",
    "# anything you can do with a normal variable, you can do with an attribute\n",
    "# it is just a variable that belongs to a class\n",
    "\n",
    "# class declaration\n",
    "class Dog:\n",
    "    def __init__(self, breed, name):\n",
    "        self.breed = breed\n",
    "        self.name = name\n",
    "        self.paws = 4\n",
    "        self.ears = 2\n",
    "\n",
    "# class instantation\n",
    "wes = Dog('English Springer Spaniel', 'Sir Wesley Charles of Nottingham')\n",
    "print(wes)\n",
    "\n",
    "# accessing class attributes\n",
    "print(wes.breed, wes.name, wes.paws, wes.ears)"
   ]
  },
  {
   "cell_type": "markdown",
   "metadata": {},
   "source": [
    "##### Accessing Class Attributes"
   ]
  },
  {
   "cell_type": "code",
   "execution_count": null,
   "metadata": {
    "scrolled": true
   },
   "outputs": [],
   "source": [
    "# See Above"
   ]
  },
  {
   "cell_type": "markdown",
   "metadata": {},
   "source": [
    "##### Setting Defaults for Attributes"
   ]
  },
  {
   "cell_type": "code",
   "execution_count": 54,
   "metadata": {},
   "outputs": [
    {
     "name": "stdout",
     "output_type": "stream",
     "text": [
      "This is Sir Wesley Charles of Nottingham. He is a English Springer Spaniel with 4 paws and 2 ears.\n",
      "\n",
      "\n",
      "This is Balto. He is a Alaskan Husky with 4 paws and 1 ears.\n",
      "\n",
      "\n",
      "This is Hachiko. He is a Shiba Inu with 3 paws and 2 ears.\n"
     ]
    }
   ],
   "source": [
    "# not all dogs have 4 paws and 2 ears :'(\n",
    "# however, most dogs have 4 paws and 2 ears\n",
    "# so, let's set up default values for paws and ears but make it so that you can provide a different number if needed\n",
    "\n",
    "class Dog:\n",
    "    def __init__(self, breed, name, paws=4, ears=2):\n",
    "        self.breed = breed\n",
    "        self.name = name\n",
    "        self.paws = paws\n",
    "        self.ears = ears\n",
    "\n",
    "wes = Dog('English Springer Spaniel', 'Sir Wesley Charles of Nottingham')\n",
    "print(f'This is {wes.name}. He is a {wes.breed} with {wes.paws} paws and {wes.ears} ears.')\n",
    "print('\\n')\n",
    "balto = Dog('Alaskan Husky', 'Balto', ears=1)\n",
    "print(f'This is {balto.name}. He is a {balto.breed} with {balto.paws} paws and {balto.ears} ears.')\n",
    "print('\\n')\n",
    "hachiko = Dog('Shiba Inu', 'Hachiko', 3)\n",
    "print(f'This is {hachiko.name}. He is a {hachiko.breed} with {hachiko.paws} paws and {hachiko.ears} ears.')"
   ]
  },
  {
   "cell_type": "markdown",
   "metadata": {},
   "source": [
    "##### Changing Class Attributes <br>\n",
    "<p>Keep in mind there are global class attributes and then there are attributes only available to each class instance which won't effect other classes.</p>"
   ]
  },
  {
   "cell_type": "code",
   "execution_count": 63,
   "metadata": {},
   "outputs": [
    {
     "name": "stdout",
     "output_type": "stream",
     "text": [
      "{'breed': 'Shiba Inu', 'name': 'Hachiko', 'paws': 3, 'ears': 1}\n",
      "{'breed': 'Shiba Inu', 'name': 'Hachiko', 'paws': 4, 'ears': 2}\n"
     ]
    }
   ],
   "source": [
    "hachiko = Dog('Shiba Inu', 'Hachiko', 3, 1)\n",
    "# i can see a dictionary representation of an object's attributes using variable.__dict__\n",
    "    # only if an __init__ method was used\n",
    "print(hachiko.__dict__) # printing the dictionary here has no impact on what i can and can't do, its just for visuals\n",
    "# redefine the value of hachiko's paws and ears\n",
    "hachiko.paws = 4\n",
    "hachiko.ears = 2\n",
    "print(hachiko.__dict__)"
   ]
  },
  {
   "cell_type": "code",
   "execution_count": null,
   "metadata": {},
   "outputs": [],
   "source": []
  },
  {
   "cell_type": "markdown",
   "metadata": {},
   "source": [
    "##### In-Class Exercise #2 - Add a doors and seats attribute to your 'Car' class then print out two different instances with different doors and seats"
   ]
  },
  {
   "cell_type": "code",
   "execution_count": 66,
   "metadata": {},
   "outputs": [
    {
     "name": "stdout",
     "output_type": "stream",
     "text": [
      "{'species': 'Fennec', 'family': 'Fox', 'habitat': 'desert', 'region': 'Africa', 'tail': 'bushy'}\n",
      "{'species': 'Red', 'family': 'Fox', 'habitat': 'temperate forest', 'region': 'North America and Europe', 'tail': 'bushy'}\n"
     ]
    }
   ],
   "source": [
    "# create a class of your choosing\n",
    "# with an __init__ method and at least 4 attributes\n",
    "# then create two different instances of that class\n",
    "\n",
    "class Fox:\n",
    "    def __init__(self, species, habitat, region, tail='bushy'):\n",
    "        self.species = species\n",
    "        self.family = 'Fox'\n",
    "        self.habitat = habitat\n",
    "        self.region = region\n",
    "        self.tail = tail\n",
    "        \n",
    "small = Fox('Fennec', 'desert', 'Africa')\n",
    "medium = Fox('Red', 'temperate forest', 'North America and Europe')\n",
    "\n",
    "print(small.__dict__)\n",
    "print(medium.__dict__)"
   ]
  },
  {
   "cell_type": "markdown",
   "metadata": {},
   "source": [
    "## Class Methods <br>\n",
    "<p>While inside of a class, functions are referred to as 'methods'. If you hear someone mention methods, they're speaking about classes. Methods are essentially functions, but only callable on the instances of a class.</p>"
   ]
  },
  {
   "cell_type": "markdown",
   "metadata": {},
   "source": [
    "##### Creating"
   ]
  },
  {
   "cell_type": "code",
   "execution_count": 7,
   "metadata": {},
   "outputs": [],
   "source": [
    "# inside the declaration of the class, we always refer to the attributes using self.____ notation\n",
    "class Fox:\n",
    "    def __init__(self, species, habitat, region, tail='bushy'):\n",
    "        self.species = species\n",
    "        self.family = 'Fox'\n",
    "        self.habitat = habitat\n",
    "        self.region = region\n",
    "        self.tail = tail\n",
    "        \n",
    "    # add a class method to print a description of the fox\n",
    "    # if we want our method to have access to our attributes, it needs self as a parameter\n",
    "    def info(self):\n",
    "        print(f'The {self.species} {self.family} is a {self.family.lower()} that inhabits {self.habitat} areas of {self.region}. This fox has a {self.tail} tail.')"
   ]
  },
  {
   "cell_type": "markdown",
   "metadata": {},
   "source": [
    "##### Calling"
   ]
  },
  {
   "cell_type": "code",
   "execution_count": 8,
   "metadata": {},
   "outputs": [],
   "source": [
    "small = Fox('Fennec', 'desert', 'Africa')\n",
    "medium = Fox('Red', 'temperate forest', 'North America and Europe')"
   ]
  },
  {
   "cell_type": "code",
   "execution_count": 13,
   "metadata": {},
   "outputs": [
    {
     "name": "stdout",
     "output_type": "stream",
     "text": [
      "The Red Fox is a fox that inhabits temperate forest areas of North America and Europe. This fox has a bushy tail.\n",
      "The Fennec Fox is a fox that inhabits desert areas of Africa. This fox has a bushy tail.\n"
     ]
    }
   ],
   "source": [
    "# old way\n",
    "# classname.method(self)\n",
    "Fox.info(medium)\n",
    "\n",
    "# before i can access info, i must go into the fox class\n",
    "Fox.info(small)"
   ]
  },
  {
   "cell_type": "code",
   "execution_count": 14,
   "metadata": {},
   "outputs": [
    {
     "name": "stdout",
     "output_type": "stream",
     "text": [
      "The Red Fox is a fox that inhabits temperate forest areas of North America and Europe. This fox has a bushy tail.\n",
      "The Fennec Fox is a fox that inhabits desert areas of Africa. This fox has a bushy tail.\n"
     ]
    }
   ],
   "source": [
    "# new way, best practice way\n",
    "# self.method()\n",
    "medium.info()\n",
    "small.info()"
   ]
  },
  {
   "cell_type": "code",
   "execution_count": null,
   "metadata": {},
   "outputs": [],
   "source": [
    "# string.replace(a, b)\n",
    "# replace is a method of the str class\n",
    "# so when we do 'banana'.replace('na', '')\n",
    "# 'banana' is the self/the instance of the string object"
   ]
  },
  {
   "cell_type": "markdown",
   "metadata": {},
   "source": [
    "##### Modifying an Attribute's Value Through a Method"
   ]
  },
  {
   "cell_type": "code",
   "execution_count": 23,
   "metadata": {},
   "outputs": [
    {
     "name": "stdout",
     "output_type": "stream",
     "text": [
      "The Fennec Fox is a fox that inhabits desert areas of Africa. This fox has a bushy tail and is 0 years old.\n",
      "The age of this fox has changed. This fox was 0 and is now 7.\n",
      "The Fennec Fox is a fox that inhabits desert areas of Africa. This fox has a bushy tail and is 7 years old.\n"
     ]
    }
   ],
   "source": [
    "# setter method\n",
    "# a method created for the sole purpose of modifying an attribute in a certain way\n",
    "\n",
    "class Fox:\n",
    "    def __init__(self, species, habitat, region, tail='bushy', age=0):\n",
    "        self.species = species\n",
    "        self.family = 'Fox'\n",
    "        self.habitat = habitat\n",
    "        self.region = region\n",
    "        self.tail = tail\n",
    "        self.age = age\n",
    "        \n",
    "    # add a class method to print a description of the fox\n",
    "    # if we want our method to have access to our attributes, it needs self as a parameter\n",
    "    def info(self):\n",
    "        print(f'The {self.species} {self.family} is a {self.family.lower()} that inhabits {self.habitat} areas of {self.region}. This fox has a {self.tail} tail and is {self.age} years old.')\n",
    "        \n",
    "    #a method to modify the age attribute\n",
    "    def changeAge(self, new_age):\n",
    "        old_age = self.age\n",
    "        self.age = new_age\n",
    "        print(f'The age of this fox has changed. This fox was {old_age} and is now {new_age}.')\n",
    "        \n",
    "new_Fox = Fox('Fennec', 'desert', 'Africa')\n",
    "new_Fox.info()\n",
    "new_Fox.changeAge(7)\n",
    "new_Fox.info()"
   ]
  },
  {
   "cell_type": "markdown",
   "metadata": {},
   "source": [
    "##### Incrementing an Attribute's Value Through a Method"
   ]
  },
  {
   "cell_type": "code",
   "execution_count": 27,
   "metadata": {},
   "outputs": [
    {
     "name": "stdout",
     "output_type": "stream",
     "text": [
      "The Arctic Fox is a fox that inhabits tundra areas of the Arctic Circle. This fox has a bushy tail and is 0 years old.\n",
      "Happy birthday Arctic Fox! This fox is now a year older. This fox is 1 years old.\n",
      "Happy birthday Arctic Fox! This fox is now a year older. This fox is 2 years old.\n",
      "Happy birthday Arctic Fox! This fox is now a year older. This fox is 3 years old.\n",
      "The Arctic Fox is a fox that inhabits tundra areas of the Arctic Circle. This fox has a bushy tail and is 3 years old.\n"
     ]
    }
   ],
   "source": [
    "class Fox:\n",
    "    def __init__(self, species, habitat, region, tail='bushy', age=0):\n",
    "        self.species = species\n",
    "        self.family = 'Fox'\n",
    "        self.habitat = habitat\n",
    "        self.region = region\n",
    "        self.tail = tail\n",
    "        self.age = age\n",
    "        \n",
    "    # add a class method to print a description of the fox\n",
    "    # if we want our method to have access to our attributes, it needs self as a parameter\n",
    "    def info(self):\n",
    "        print(f'The {self.species} {self.family} is a {self.family.lower()} that inhabits {self.habitat} areas of {self.region}. This fox has a {self.tail} tail and is {self.age} years old.')\n",
    "    \n",
    "    def getOlder(self):\n",
    "        self.age += 1\n",
    "        print(f'Happy birthday {self.species} {self.family}! This fox is now a year older. This fox is {self.age} years old.')\n",
    "\n",
    "young_Fox = Fox('Arctic', 'tundra', 'the Arctic Circle')\n",
    "young_Fox.info()\n",
    "young_Fox.getOlder()\n",
    "young_Fox.getOlder()\n",
    "young_Fox.getOlder()\n",
    "young_Fox.info()"
   ]
  },
  {
   "cell_type": "markdown",
   "metadata": {},
   "source": [
    "##### In-Class Exercise #3 - Add a method that takes in three parameters of year, doors and seats and prints out a formatted print statement with make, model, year, seats, and doors"
   ]
  },
  {
   "cell_type": "code",
   "execution_count": 30,
   "metadata": {},
   "outputs": [
    {
     "name": "stdout",
     "output_type": "stream",
     "text": [
      "This car is from 2019 and is a Ford Explorer and has 4 doors and 5 seats.\n",
      "Ford\n"
     ]
    }
   ],
   "source": [
    "# Create class with 2 paramters inside of the __init__ which are make and model\n",
    "\n",
    "# Inside of the Car class create a method that has 4 parameter in total (self,year,door,seats)\n",
    "\n",
    "# Output: This car is from 2019 and is a Ford Expolorer and has 4 doors and 5 seats\n",
    "\n",
    "class Car:\n",
    "    def __init__(self, make, model):\n",
    "        self.make = make\n",
    "        self.model = model\n",
    "        \n",
    "    def show(self, year, door, seats):\n",
    "        print(f'This car is from {year} and is a {self.make} {self.model} and has {door} doors and {seats} seats.')\n",
    "        \n",
    "car1 = Car('Ford', 'Explorer')\n",
    "car1.show(2019, 4, 5)\n",
    "print(car1.make)"
   ]
  },
  {
   "cell_type": "code",
   "execution_count": 1,
   "metadata": {},
   "outputs": [
    {
     "name": "stdout",
     "output_type": "stream",
     "text": [
      "ELEPHANT\n"
     ]
    }
   ],
   "source": [
    "abc=\"elephant\"\n",
    "print(abc.upper())"
   ]
  },
  {
   "cell_type": "markdown",
   "metadata": {},
   "source": [
    "## Inheritance <br>\n",
    "<p>You can create a child-parent relationship between two classes by using inheritance. What this allows you to do is have overriding methods, but also inherit traits from the parent class. Think of it as an actual parent and child, the child will inherit the parent's genes, as will the classes in OOP</p>"
   ]
  },
  {
   "cell_type": "markdown",
   "metadata": {},
   "source": [
    "##### Syntax for Inheriting from a Parent Class"
   ]
  },
  {
   "cell_type": "code",
   "execution_count": 35,
   "metadata": {},
   "outputs": [
    {
     "name": "stdout",
     "output_type": "stream",
     "text": [
      "The Orca inhabits open ocean areas of the North Pacific Ocean.\n",
      "<class '__main__.Animal'>\n",
      "The Fennec Fox inhabits desert areas of Africa.\n",
      "<class '__main__.Fox'>\n"
     ]
    }
   ],
   "source": [
    "class Animal:\n",
    "    def __init__(self, name, habitat, region):\n",
    "        self.name = name\n",
    "        self.habitat = habitat\n",
    "        self.region = region\n",
    "    \n",
    "    def info(self):\n",
    "        print(f'The {self.name} inhabits {self.habitat} areas of {self.region}.')\n",
    "\n",
    "# declare the class Fox as a child of the class Animal\n",
    "# Fox is inheriting from Animal\n",
    "class Fox(Animal):\n",
    "    pass\n",
    "\n",
    "animalA = Animal('Orca', 'open ocean', 'the North Pacific Ocean')\n",
    "animalA.info()\n",
    "print(type(animalA))\n",
    "\n",
    "foxA = Fox('Fennec Fox', 'desert', 'Africa')\n",
    "foxA.info()\n",
    "print(type(foxA))"
   ]
  },
  {
   "cell_type": "markdown",
   "metadata": {},
   "source": [
    "##### The \\__init\\__() Method for a Child Class - super()"
   ]
  },
  {
   "cell_type": "code",
   "execution_count": 42,
   "metadata": {
    "scrolled": true
   },
   "outputs": [
    {
     "name": "stdout",
     "output_type": "stream",
     "text": [
      "The Orca inhabits open ocean areas of the North Pacific Ocean.\n",
      "The Fennec Fox is a fox that inhabits desert areas of Africa. This fox has a bushy tail and is 2 years old.\n"
     ]
    },
    {
     "data": {
      "text/plain": [
       "2"
      ]
     },
     "execution_count": 42,
     "metadata": {},
     "output_type": "execute_result"
    }
   ],
   "source": [
    "class Animal:\n",
    "    def __init__(self, name, habitat, region):\n",
    "        self.name = name\n",
    "        self.habitat = habitat\n",
    "        self.region = region\n",
    "    \n",
    "    def info(self):\n",
    "        print(f'The {self.name} inhabits {self.habitat} areas of {self.region}.')\n",
    "\n",
    "# declare the class Fox as a child of the class Animal\n",
    "# Fox is inheriting from Animal\n",
    "class Fox(Animal):\n",
    "    def __init__(self, name, habitat, region, age=2):\n",
    "        super().__init__(name, habitat, region)\n",
    "        self.tail = 'bushy'\n",
    "        self.age = age\n",
    "        \n",
    "    # method overriding is just creating new behavior for a method in a child class\n",
    "    # by redefining that method in the child class\n",
    "    # defining a method of the same name as an inherited method\n",
    "    # is called method overriding\n",
    "    # and the new definition is what will run when called\n",
    "    def info(self):\n",
    "        print(f'The {self.name} is a fox that inhabits {self.habitat} areas of {self.region}. This fox has a {self.tail} tail and is {self.age} years old.')\n",
    "        \n",
    "animalA = Animal('Orca', 'open ocean', 'the North Pacific Ocean')\n",
    "animalA.info()\n",
    "\n",
    "foxA = Fox('Fennec Fox', 'desert', 'Africa')\n",
    "foxA.info()\n",
    "foxA.age"
   ]
  },
  {
   "cell_type": "markdown",
   "metadata": {},
   "source": [
    "##### Defining Attributes and Methods for the Child Class"
   ]
  },
  {
   "cell_type": "code",
   "execution_count": null,
   "metadata": {},
   "outputs": [],
   "source": [
    "# See Above"
   ]
  },
  {
   "cell_type": "markdown",
   "metadata": {},
   "source": [
    "##### Method Overriding"
   ]
  },
  {
   "cell_type": "code",
   "execution_count": null,
   "metadata": {},
   "outputs": [],
   "source": [
    "# See Above"
   ]
  },
  {
   "cell_type": "markdown",
   "metadata": {},
   "source": [
    "## Classes as Attributes <br>\n",
    "<p>Classes can also be used as attributes within another class. This is useful in situations where you need to keep variables locally stored, instead of globally stored.</p>"
   ]
  },
  {
   "cell_type": "code",
   "execution_count": 58,
   "metadata": {},
   "outputs": [
    {
     "name": "stdout",
     "output_type": "stream",
     "text": [
      "[<__main__.Animal object at 0x00000247CA38CF10>, <__main__.Animal object at 0x00000247CA38C0D0>, <__main__.Animal object at 0x00000247CA38C3A0>] \n",
      "\n",
      "Hi! This is Steve Irwin. Let's meet the animals at the Queensland Zoo!\n",
      "This is Dave, a Fennec Fox. Fennec Fox inhabit desert areas of Africa.\n",
      "This is Sheila, a Australian Saltwater Crocodile. Australian Saltwater Crocodile inhabit swampy areas of Australia.\n",
      "This is Gary, a Koala. Koala inhabit outback areas of Australia.\n"
     ]
    }
   ],
   "source": [
    "# lets make an animal class\n",
    "# and some instances of that animal class\n",
    "# and store them in an attribute of a zoo class\n",
    "\n",
    "class Animal:\n",
    "    def __init__(self, name, species, habitat, region):\n",
    "        self.name = name\n",
    "        self.species = species\n",
    "        self.habitat = habitat\n",
    "        self.region = region\n",
    "    \n",
    "    def info(self):\n",
    "        print(f'This is {self.name}, a {self.species}. {self.species.title()} inhabit {self.habitat} areas of {self.region}.')\n",
    "\n",
    "class Zoo:\n",
    "    def __init__(self, name, zookeeper, animals):\n",
    "        self.name = name\n",
    "        self.zookeeper = zookeeper\n",
    "        self.animals = animals\n",
    "        \n",
    "        \n",
    "fox = Animal('Dave', 'Fennec Fox', 'desert', 'Africa')\n",
    "crocodile = Animal('Sheila', 'Australian Saltwater Crocodile', 'swampy', 'Australia')\n",
    "koala = Animal('Gary', 'Koala', 'outback', 'Australia')\n",
    "\n",
    "queensland = Zoo('Queensland Zoo', 'Steve Irwin', [fox, crocodile, koala])\n",
    "print(queensland.animals, '\\n')\n",
    "print(f\"Hi! This is {queensland.zookeeper}. Let's meet the animals at the {queensland.name}!\")\n",
    "# call the info methods for each of the animal instances in the animals attribute of the queensland instance of a Zoo\n",
    "for animal in queensland.animals:\n",
    "    animal.info()"
   ]
  },
  {
   "cell_type": "markdown",
   "metadata": {},
   "source": [
    "# Exercises"
   ]
  },
  {
   "cell_type": "markdown",
   "metadata": {},
   "source": [
    "### Exercise 1 - Turn the shopping cart program from yesterday into an object-oriented program\n",
    "\n",
    "The comments in the cell below are there as a guide for thinking about the problem. However, if you feel a different way is best for you and your own thought process, please do what feels best for you by all means."
   ]
  },
  {
   "cell_type": "code",
   "execution_count": null,
   "metadata": {},
   "outputs": [],
   "source": [
    "# Create a class called cart that retains items and has methods to add, remove, and show\n",
    "\n",
    "class Cart():\n",
    "    pass\n",
    "    "
   ]
  },
  {
   "cell_type": "markdown",
   "metadata": {},
   "source": [
    "### Exercise 2 - Write a Python class which has two methods get_String and print_String. get_String accept a string from the user and print_String print the string in upper case"
   ]
  },
  {
   "cell_type": "code",
   "execution_count": null,
   "metadata": {},
   "outputs": [],
   "source": [
    "# this class should have one attribute\n",
    "# and two methods\n",
    "# get_String should modify the value of the attribute\n",
    "# print_String should print the string in uppercase"
   ]
  }
 ],
 "metadata": {
  "kernelspec": {
   "display_name": "Python 3",
   "language": "python",
   "name": "python3"
  },
  "language_info": {
   "codemirror_mode": {
    "name": "ipython",
    "version": 3
   },
   "file_extension": ".py",
   "mimetype": "text/x-python",
   "name": "python",
   "nbconvert_exporter": "python",
   "pygments_lexer": "ipython3",
   "version": "3.9.7"
  }
 },
 "nbformat": 4,
 "nbformat_minor": 2
}
